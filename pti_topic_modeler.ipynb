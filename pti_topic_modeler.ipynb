{
 "cells": [
  {
   "cell_type": "code",
   "execution_count": 99,
   "metadata": {
    "collapsed": false
   },
   "outputs": [],
   "source": [
    "import sys\n",
    "sys.path.append(\"/tmp\")\n",
    "from imp import reload\n",
    "import article_loader\n",
    "reload(article_loader)\n",
    "\n",
    "dirname = \"/var/pti/scrape\"\n",
    "loader = article_loader.ArticleLoader()\n",
    "\n",
    "(idx2doc, dataset) = loader.load_articles(dirname)"
   ]
  },
  {
   "cell_type": "code",
   "execution_count": 101,
   "metadata": {
    "collapsed": false,
    "scrolled": true
   },
   "outputs": [
    {
     "name": "stdout",
     "output_type": "stream",
     "text": [
      "['18', '9', '24', '23', '7', '26', '19', '13', '10', '21', '11', '22', '1', '25', '6', '12', '15', '2', '20', '27', '8', '16', '14', '17']\n",
      "['\\u3000 神奈川県小田原市 で 生活保護受給者 の 自立支援 を 担当 する 市職員 ら が 「 不正受給 は クズ だ 」 と の 趣旨 の 英文 が 書か れ た ジャンパー を 着 て い た 問題 で 、 職員 ら が 「 生活保護 悪 撲滅 チーム 」 を 示す 「 ＳＨＡＴ 」 の マーク を 袖 に 付け た 夏 用 の ポロシャツ を 製作 し 、 業務 で 着用 し て い た こと が ３ 日 、 市 へ の 取材 で 分かっ た 。 \\u3000 市 は 不適切 な マーク だ として 、 同日 以降 の 使用 を 禁止 し た 。 \\u3000 市 に よる と 、 ポロシャツ は 、 ジャンパー が 作ら れ た ２ ０ ０ ７ 年 の 翌年 夏 に 製作 さ れ 、 現在 も ２ ８ 人 の 職員 が 所持 し て いる 。 青 や 紺 など 数種類 あり 、 １ 着 ２ 千 円 前後 で 各 職員 が 個人 として 購入 し て い た 。  トランプ大統領 の 円安 誘導 批判 は 実力行使 を 伴わ ぬ 空砲 で あり 、 神通力 を 失う の は 時間 の 問題 だ と 野村証券 の 池田雄之輔 氏 は 分析 。 \\xa0 記事 の 全文 ドル円 相場 波乱 の 芽 は 、 中期的 に は トランプ政権 の 動向 より も 金融政策 に 潜ん で いる と バークレイズ 証券 の 門田 真一郎 氏 は 指摘 。 \\xa0 記事 の 全文 トムソン・ロイター は 世界最大 級 の 国際 マルチメディア 通信社 です 。 マーケット ニュース 、 ビジネスニュース 、 テクノロジー ニュース 、 外国為替 フォーラム 、 ワールド 、 ヘッドラインニュース 、 速報 ニュース 、 コラム 、 ブログ 、 国内 株式 、 海外 株式 、 外国為替 、 投資信託 情報 が 、 ロイター . co.jp サイト 、 ビデオ 、 モバイルサイト 、 インタラクティブ ・ テレビ プラットフォーム で ご 利用 いただけ ます 。 国内 株式 関連 の 情報 は 約 20分 遅れ 、 海外 株式 関連 の 情報 は 15分 以上 の 遅れ で 表示 し て い ます 。 為替 情報 は 10分 ごと に 更新 さ れ て おり 、 約 10分 前 の 相場 を 表示 し て い ます 。 日経平均株価 の 著 作 権 は 日本経済新聞社 に 帰属 し ます 。 本件 情報 を 無断 で 再 配信 する こと は 禁じ られ て おり ます 。 ロイター 日本語 ニュース は トムソン・ロイター が 提供 する 有料 金融 情報端末 「 トムソン・ロイター ・ アイコン 」 上 で 、 全て 優先 的 に ご覧 いただけ ます 。 リアルタイム で ニュース や 金融 デー タ を ご覧 いただく ため の 詳細 は こちら 。', '\\u3000 稲田朋美 防衛相 は ４ 日 午前 、 マティス 米 国防長官 と 防衛省 で 初めて 会談 し た 。 日本 による 米軍 駐留 経費 負担 は 議論 に なら ず 、 マティス 氏 は 会談 後 の 共同記者会見 で 「 日本 は コスト や 負担 の 共有 に関して モデル と なっ て き た 。 他国 が 見習う べき お手本 だ と 言える 」 と 評価 し た 。 双方 は 、 南シナ海 で の 中国 の 活動 に関し 「 安全保障 上 の 懸念 」 として 関与 を 強化 する 方針 で 合意 し た 。  \\u3000 北朝鮮 の 核 ・ ミサイル開発 は 、 日 米 両国 と 地域 へ の 重大 な 脅威 と の 認識 で 一致 。 日 米 韓 で 連携 対処 する こと を 確認 し た 。  \\u3000 在日米軍 駐留 経費 を 巡っ て は 、 トランプ 米大統領 が 選挙中 に 負担増 を 求める 考え を 示し て い た 。']\n"
     ]
    }
   ],
   "source": [
    "print(idx2doc)\n",
    "print(datasets)"
   ]
  },
  {
   "cell_type": "code",
   "execution_count": 79,
   "metadata": {
    "collapsed": false
   },
   "outputs": [
    {
     "data": {
      "text/plain": [
       "<module 'pti_lda' from '/tmp/pti_lda.py'>"
      ]
     },
     "execution_count": 79,
     "metadata": {},
     "output_type": "execute_result"
    }
   ],
   "source": [
    "from imp import reload\n",
    "import pti_lda\n",
    "reload(pti_lda)"
   ]
  },
  {
   "cell_type": "code",
   "execution_count": 80,
   "metadata": {
    "collapsed": false
   },
   "outputs": [],
   "source": [
    "lda = pti_lda.PTILDA()"
   ]
  },
  {
   "cell_type": "code",
   "execution_count": 81,
   "metadata": {
    "collapsed": false
   },
   "outputs": [],
   "source": [
    "lda.train(dataset)\n"
   ]
  },
  {
   "cell_type": "code",
   "execution_count": 84,
   "metadata": {
    "collapsed": true
   },
   "outputs": [],
   "source": [
    "lda.dump_topic(idx2doc)"
   ]
  },
  {
   "cell_type": "code",
   "execution_count": 82,
   "metadata": {
    "collapsed": false
   },
   "outputs": [
    {
     "name": "stdout",
     "output_type": "stream",
     "text": [
      "Topic #0:\n",
      "ロイター ます ニュース 情報 株式 職員 トムソン 日本 10分 ポロシャツ 関連 金融 会談 マティス ご覧 問題 あり 記事 いる 負担\n",
      "\n",
      "Topic #1:\n",
      "ます 共同記者会見 不適切 選挙中 株式 全文 職員 ニュース 情報 デー トランプ大統領 取材 トムソン 経費 相場 関連 作ら おり ジャンパー トランプ\n",
      "\n"
     ]
    }
   ],
   "source": [
    "lda.print_topic_word(20)"
   ]
  },
  {
   "cell_type": "code",
   "execution_count": 83,
   "metadata": {
    "collapsed": false
   },
   "outputs": [
    {
     "name": "stdout",
     "output_type": "stream",
     "text": [
      "Doc 0:\n",
      "Topic:0, prob:0.9953174983462851\n",
      "\n",
      "Doc 1:\n",
      "Topic:0, prob:0.9860654820955974\n",
      "\n"
     ]
    }
   ],
   "source": [
    "lda.print_doc_topic(1)"
   ]
  }
 ],
 "metadata": {
  "kernelspec": {
   "display_name": "Python 3",
   "language": "python",
   "name": "python3"
  },
  "language_info": {
   "codemirror_mode": {
    "name": "ipython",
    "version": 3
   },
   "file_extension": ".py",
   "mimetype": "text/x-python",
   "name": "python",
   "nbconvert_exporter": "python",
   "pygments_lexer": "ipython3",
   "version": "3.6.0"
  }
 },
 "nbformat": 4,
 "nbformat_minor": 2
}
